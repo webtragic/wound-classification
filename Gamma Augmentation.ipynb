{
 "cells": [
  {
   "cell_type": "code",
   "execution_count": 7,
   "id": "67a98536",
   "metadata": {},
   "outputs": [
    {
     "name": "stdout",
     "output_type": "stream",
     "text": [
      "Requirement already satisfied: opencv-python in c:\\users\\sifat ullah\\anaconda3\\lib\\site-packages (4.8.0.74)\n",
      "Requirement already satisfied: numpy>=1.21.2 in c:\\users\\sifat ullah\\anaconda3\\lib\\site-packages (from opencv-python) (1.24.3)\n",
      "Requirement already satisfied: numpy in c:\\users\\sifat ullah\\anaconda3\\lib\\site-packages (1.24.3)\n"
     ]
    }
   ],
   "source": [
    "!pip install opencv-python\n",
    "!pip install numpy\n"
   ]
  },
  {
   "cell_type": "code",
   "execution_count": 8,
   "id": "7aee1544",
   "metadata": {},
   "outputs": [],
   "source": [
    "import os\n",
    "import cv2\n",
    "import numpy as np\n",
    "from skimage import exposure\n"
   ]
  },
  {
   "cell_type": "code",
   "execution_count": 9,
   "id": "16353917",
   "metadata": {},
   "outputs": [],
   "source": [
    "# Replace these paths with the paths to your dataset and output directories\n",
    "dataset_dir = 'C:/Users/Sifat Ullah/Desktop/Image-Classification-Using-EfficientNets-main/dataset'\n",
    "output_dir = 'C:/Users/Sifat Ullah/Desktop/Image-Classification-Using-EfficientNets-main/toe/toeGamma'\n"
   ]
  },
  {
   "cell_type": "code",
   "execution_count": 10,
   "id": "692ebb7f",
   "metadata": {},
   "outputs": [],
   "source": [
    "def gamma_correction(image, gamma=1.0):\n",
    "    inv_gamma = 1.0 / gamma\n",
    "    table = np.array([((i / 255.0) ** inv_gamma) * 255 for i in np.arange(0, 256)]).astype('uint8')\n",
    "    return cv2.LUT(image, table)\n"
   ]
  },
  {
   "cell_type": "code",
   "execution_count": 11,
   "id": "82b0df54",
   "metadata": {},
   "outputs": [],
   "source": [
    "def augment_class(class_dir, output_class_dir, num_images=500, gamma_range=(0.5, 2.0)):\n",
    "    images = os.listdir(class_dir)\n",
    "    num_generated_images = 0\n",
    "\n",
    "    while num_generated_images < num_images:\n",
    "        image_name = np.random.choice(images)\n",
    "        image_path = os.path.join(class_dir, image_name)\n",
    "        image = cv2.imread(image_path)\n",
    "\n",
    "        # Generate random gamma value within the specified range\n",
    "        gamma = np.random.uniform(gamma_range[0], gamma_range[1])\n",
    "\n",
    "        # Perform gamma correction augmentation\n",
    "        augmented_image = gamma_correction(image, gamma)\n",
    "\n",
    "        # Save the augmented image to the output directory\n",
    "        output_image_name = f\"{os.path.splitext(image_name)[0]}_aug_{num_generated_images}.jpg\"\n",
    "        output_image_path = os.path.join(output_class_dir, output_image_name)\n",
    "        cv2.imwrite(output_image_path, augmented_image)\n",
    "\n",
    "        num_generated_images += 1\n"
   ]
  },
  {
   "cell_type": "code",
   "execution_count": 12,
   "id": "51ca0820",
   "metadata": {},
   "outputs": [],
   "source": [
    "classes = ['Infected-and necrotic-toes']  # Replace with your class names\n",
    "\n",
    "for class_name in classes:\n",
    "    class_dir = os.path.join(dataset_dir, class_name)\n",
    "    output_class_dir = os.path.join(output_dir, class_name)\n",
    "    os.makedirs(output_class_dir, exist_ok=True)\n",
    "    augment_class(class_dir, output_class_dir, num_images=34)\n"
   ]
  },
  {
   "cell_type": "code",
   "execution_count": null,
   "id": "794fc7fd",
   "metadata": {},
   "outputs": [],
   "source": []
  }
 ],
 "metadata": {
  "kernelspec": {
   "display_name": "Python 3 (ipykernel)",
   "language": "python",
   "name": "python3"
  },
  "language_info": {
   "codemirror_mode": {
    "name": "ipython",
    "version": 3
   },
   "file_extension": ".py",
   "mimetype": "text/x-python",
   "name": "python",
   "nbconvert_exporter": "python",
   "pygments_lexer": "ipython3",
   "version": "3.11.3"
  }
 },
 "nbformat": 4,
 "nbformat_minor": 5
}
