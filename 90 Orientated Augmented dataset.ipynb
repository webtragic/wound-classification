{
 "cells": [
  {
   "cell_type": "code",
   "execution_count": 2,
   "id": "6a4b32ff",
   "metadata": {},
   "outputs": [
    {
     "name": "stdout",
     "output_type": "stream",
     "text": [
      "Requirement already satisfied: pillow in c:\\users\\sifat ullah\\anaconda3\\lib\\site-packages (9.4.0)\n",
      "Requirement already satisfied: numpy in c:\\users\\sifat ullah\\anaconda3\\lib\\site-packages (1.24.3)\n",
      "Note: you may need to restart the kernel to use updated packages.\n"
     ]
    }
   ],
   "source": [
    "pip install pillow numpy\n"
   ]
  },
  {
   "cell_type": "code",
   "execution_count": 3,
   "id": "2a848cd7",
   "metadata": {},
   "outputs": [],
   "source": [
    "# Import necessary libraries\n",
    "import os\n",
    "import random\n",
    "from PIL import Image\n",
    "import numpy as np\n",
    "\n",
    "# Function to perform rotation at 90 degrees on an image\n",
    "def rotate_90(image):\n",
    "    return image.rotate(90)\n",
    "\n",
    "# Function to apply rotation at 90 degrees on a dataset\n",
    "def augment_dataset(input_folder, output_folder, num_augmented_images_per_class):\n",
    "    # Get a list of all classes in the dataset (subfolders)\n",
    "    classes = os.listdir(input_folder)\n",
    "    \n",
    "    for class_name in classes:\n",
    "        class_folder = os.path.join(input_folder, class_name)\n",
    "        output_class_folder = os.path.join(output_folder, class_name)\n",
    "        \n",
    "        # Create the output folder if it doesn't exist\n",
    "        if not os.path.exists(output_class_folder):\n",
    "            os.makedirs(output_class_folder)\n",
    "        \n",
    "        # Get a list of all image files in the class folder\n",
    "        image_files = os.listdir(class_folder)\n",
    "        \n",
    "        # Perform rotation at 90 degrees and save the augmented images\n",
    "        for i in range(num_augmented_images_per_class):\n",
    "            # Choose a random image file from the class folder\n",
    "            random_image_file = random.choice(image_files)\n",
    "            image_path = os.path.join(class_folder, random_image_file)\n",
    "            \n",
    "            # Open the image using PIL\n",
    "            image = Image.open(image_path)\n",
    "            \n",
    "            # Apply rotation at 90 degrees\n",
    "            augmented_image = rotate_90(image)\n",
    "            \n",
    "            # Save the augmented image to the output folder\n",
    "            output_image_path = os.path.join(output_class_folder, f\"{i+1}_{random_image_file}\")\n",
    "            augmented_image.save(output_image_path)\n",
    "            \n",
    "# Set the parameters\n",
    "input_folder = \"C:/Users/Sifat Ullah/Desktop/Image-Classification-Using-EfficientNets-main/dataset\"  # Replace with the path to your dataset folder\n",
    "output_folder = \"C:/Users/Sifat Ullah/Desktop/Image-Classification-Using-EfficientNets-main/toe/90\"   # Replace with the desired output folder\n",
    "num_augmented_images_per_class = 34\n",
    "\n",
    "# Call the augment_dataset function\n",
    "augment_dataset(input_folder, output_folder, num_augmented_images_per_class)\n"
   ]
  },
  {
   "cell_type": "code",
   "execution_count": null,
   "id": "8344e660",
   "metadata": {},
   "outputs": [],
   "source": []
  }
 ],
 "metadata": {
  "kernelspec": {
   "display_name": "Python 3 (ipykernel)",
   "language": "python",
   "name": "python3"
  },
  "language_info": {
   "codemirror_mode": {
    "name": "ipython",
    "version": 3
   },
   "file_extension": ".py",
   "mimetype": "text/x-python",
   "name": "python",
   "nbconvert_exporter": "python",
   "pygments_lexer": "ipython3",
   "version": "3.11.3"
  }
 },
 "nbformat": 4,
 "nbformat_minor": 5
}
